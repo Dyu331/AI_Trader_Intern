{
 "cells": [
  {
   "cell_type": "code",
   "execution_count": 437,
   "id": "46e6a8ec-b3ca-4ee3-95d7-80e5485bdd8f",
   "metadata": {},
   "outputs": [],
   "source": [
    "import yfinance as yf\n",
    "import pandas as pd\n",
    "import os\n",
    "import warnings\n",
    "BASE_DIR=\"/Users/dannyyu/Desktop/AI_Trader/data\"\n",
    "TICKERS = ['AAPL', 'MSFT', 'GOOGL', 'AMZN', 'META', 'NVDA', 'TSLA', 'INTC', 'AMD', 'IBM']\n",
    "\n",
    "\n",
    "def read_CSV_File(ticker,folderName):\n",
    "    dir = BASE_DIR+\"/\"+folderName+\"/\"+ticker+\"_\"+folderName+\".csv\"\n",
    "    table= pd.read_csv(dir,index_col=0)\n",
    "    return table\n",
    "\n",
    "def has_divident(metadata):\n",
    "    metadata[\"Year\"] = pd.to_datetime(metadata.index, utc=True).year #pd.to_datetime(metadata['Date'], utc=True).dt.year\n",
    "    dividend_by_year = metadata.groupby('Year')['Dividends'].apply(lambda x: int((x > 0).any()))\n",
    "    metadata['HasDividend'] = metadata['Year'].map(dividend_by_year)\n",
    "    return metadata\n",
    "\n",
    "def missing_values(table):\n",
    "    total_rows = len(table)\n",
    "    hasMissing=False\n",
    "    print(\"Analyzing \"+table.iloc[1][\"Company\"])\n",
    "    for column in table.columns:\n",
    "        num_missing = table[column].isna().sum()\n",
    "        if num_missing == 0:\n",
    "            #print(f\"📊 '{column}': no missing values\")\n",
    "            continue  # skip columns with no missing data\n",
    "        else:\n",
    "            hasMissing=True\n",
    "        percent_missing = 100 * num_missing / total_rows\n",
    "        print(f\"📊 '{column}': {num_missing} missing ({percent_missing:.2f}%)\")\n",
    "    if not hasMissing:\n",
    "        print(table.iloc[1][\"Company\"] + \" has no missing values\")\n",
    "    return hasMissing\n",
    "\n",
    "def get_closest_price(ticker_obj, target_date, lookback_days=3):\n",
    "    try:\n",
    "        start_date = target_date - pd.Timedelta(days=lookback_days)\n",
    "        end_date = target_date + pd.Timedelta(days=1)\n",
    "\n",
    "        hist = ticker_obj.history(start=start_date, end=end_date)\n",
    "        \n",
    "        if not hist.empty:\n",
    "            last_row = hist.iloc[-1]\n",
    "            timestamp_str = hist.index[-1].strftime(\"%Y-%m-%d\")\n",
    "           # print(\"Data retrieved on date \"+timestamp_str)\n",
    "            return last_row['Close']\n",
    "        else:\n",
    "            print(f\"No price data found for {ticker_obj.ticker} between {start_date.date()} and {end_date.date()}\")\n",
    "            return None\n",
    "\n",
    "    except Exception as e:\n",
    "        print(f\"Error retrieving price for {ticker_obj.ticker} near {target_date.date()}: {e}\")\n",
    "        return None\n",
    "\n",
    "    "
   ]
  },
  {
   "cell_type": "code",
   "execution_count": 395,
   "id": "92f825b6-d0ff-479d-9580-f3f7d6d3fd08",
   "metadata": {},
   "outputs": [],
   "source": [
    "###estimating the missing values for Diluted EPS and the PE ratio for IBM\n",
    "#estimate the EPS for 2024 using the currently shares outstanding as a proxy\n",
    "ibm=read_CSV_File(\"IBM\",\"metadata\")\n",
    "ibm_ticker= yf.Ticker(\"IBM\")\n",
    "ibm_fin=ibm_ticker.financials\n",
    "net_income = ibm_fin[\"2024-12-31\"][\"Net Income\"]\n",
    "shares_outstanding = ibm_ticker.info.get(\"sharesOutstanding\", None)\n",
    "eps_estimate=net_income / shares_outstanding\n",
    "# Estimating the PE ratio for 2024 using the EPS estimation from the previous step\n",
    "hist_price=get_closest_price(ibm_ticker, pd.to_datetime(\"2024-12-31\"))\n",
    "pe_ratio = hist_price / eps_estimate\n",
    "\n",
    "ibm['DilutedEPS'] =ibm['DilutedEPS'].fillna(eps_estimate)\n",
    "ibm[\"DilutedEPS\"] = ibm[\"DilutedEPS\"].round(2)\n",
    "ibm['PE'] = ibm['PE'].fillna(pe_ratio)\n",
    "ibm['PE'] = ibm['PE'].round(5)\n",
    "ibm.to_csv(os.path.join(BASE_DIR, \"metadata\",\"IBM_metadata.csv\"), index=True)\n",
    "\n"
   ]
  },
  {
   "cell_type": "code",
   "execution_count": 413,
   "id": "97b5478d-7685-471d-bec7-777b4db0a5a1",
   "metadata": {},
   "outputs": [],
   "source": [
    "##estimate the missing PE ratio for INTC using today's price\n",
    "intc=read_CSV_File(\"INTC\",\"metadata\")\n",
    "intc_ticker= yf.Ticker(\"INTC\")\n",
    "price=intc_ticker.history(period=\"1d\")[\"Close\"].iloc[-1]\n",
    "eps=intc.iloc[-1][\"DilutedEPS\"]\n",
    "pe=price/eps\n",
    "intc[\"PE\"]=intc[\"PE\"].fillna(pe)\n",
    "intc['PE'] = intc['PE'].round(5)\n",
    "intc.to_csv(os.path.join(BASE_DIR, \"metadata\",\"INTC_metadata.csv\"), index=True)\n"
   ]
  },
  {
   "cell_type": "code",
   "execution_count": 446,
   "id": "dfa03049-e93d-4277-a287-a28b044acbd4",
   "metadata": {},
   "outputs": [
    {
     "name": "stdout",
     "output_type": "stream",
     "text": [
      "Analyzing AAPL\n",
      "AAPL has no missing values\n",
      "Analyzing MSFT\n",
      "MSFT has no missing values\n",
      "Analyzing GOOGL\n",
      "GOOGL has no missing values\n",
      "Analyzing AMZN\n",
      "AMZN has no missing values\n",
      "Analyzing META\n",
      "META has no missing values\n",
      "Analyzing NVDA\n",
      "NVDA has no missing values\n",
      "Analyzing TSLA\n",
      "TSLA has no missing values\n",
      "Analyzing INTC\n",
      "INTC has no missing values\n",
      "Analyzing AMD\n",
      "AMD has no missing values\n",
      "Analyzing IBM\n",
      "IBM has no missing values\n"
     ]
    }
   ],
   "source": [
    "for ticker in TICKERS:\n",
    "    table=read_CSV_File(ticker,\"metadata\")\n",
    "    table=has_divident(table)\n",
    "    missing_value=missing_values(table)\n",
    "    table.to_csv(os.path.join(BASE_DIR, \"metadata\", f\"{ticker}_metadata.csv\"), index=True)"
   ]
  },
  {
   "cell_type": "code",
   "execution_count": null,
   "id": "aae7a46a-65a8-40fd-9539-1fe4651770ba",
   "metadata": {},
   "outputs": [],
   "source": []
  }
 ],
 "metadata": {
  "kernelspec": {
   "display_name": "Python (AI_Trader)",
   "language": "python",
   "name": "ai_trader"
  },
  "language_info": {
   "codemirror_mode": {
    "name": "ipython",
    "version": 3
   },
   "file_extension": ".py",
   "mimetype": "text/x-python",
   "name": "python",
   "nbconvert_exporter": "python",
   "pygments_lexer": "ipython3",
   "version": "3.9.21"
  }
 },
 "nbformat": 4,
 "nbformat_minor": 5
}
