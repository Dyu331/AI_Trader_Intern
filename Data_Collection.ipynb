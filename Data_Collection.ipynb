{
 "cells": [
  {
   "cell_type": "code",
   "execution_count": 1,
   "id": "7f5779c4-3f4b-435c-a233-f1108a88c19d",
   "metadata": {},
   "outputs": [],
   "source": [
    "import yfinance as yf\n",
    "import pandas as pd\n",
    "import os\n"
   ]
  },
  {
   "cell_type": "code",
   "execution_count": 2,
   "id": "a7e4b48d-0e6a-4f43-9059-766d2699aa92",
   "metadata": {},
   "outputs": [],
   "source": [
    "BASE_DIR=\"/Users/dannyyu/Desktop/AI_Trader/data\"\n",
    "TICKERS = ['AAPL', 'MSFT', 'GOOGL', 'AMZN', 'META', 'NVDA', 'TSLA', 'INTC', 'AMD', 'IBM']\n",
    "START_DATE = \"2022-01-01\"\n",
    "END_DATE = \"2025-5-18\"\n",
    "\n",
    "##create the folders\n",
    "os.makedirs(os.path.join(BASE_DIR, \"prices\"), exist_ok=True)\n",
    "os.makedirs(os.path.join(BASE_DIR, \"fundamentals\"), exist_ok=True)\n",
    "os.makedirs(os.path.join(BASE_DIR, \"metadata\"), exist_ok=True)\n",
    "\n",
    "## helper function for getting Fundamental Indicators\n",
    "def get_fundamentals(ticker_obj):\n",
    "    info = ticker_obj.info\n",
    "    return {\n",
    "        \"EPS\": info.get(\"trailingEps\", None),\n",
    "        \"PE\": info.get(\"trailingPE\", None),\n",
    "        \"Revenue\": info.get(\"totalRevenue\", None),\n",
    "        \"CashFlow\": info.get(\"operatingCashflow\", None),\n",
    "        \"EBITDA\": info.get(\"ebitda\", None),\n",
    "        \"GrossProfit\": info.get(\"grossProfits\", None),\n",
    "        \"OperatingMargin\": info.get(\"operatingMargins\", None),\n",
    "        \"ROE\": info.get(\"returnOnEquity\", None),\n",
    "        \"DebtToEquity\": info.get(\"debtToEquity\", None),\n",
    "        \"Date\": pd.Timestamp.today().strftime('%Y-%m-%d')\n",
    "    }"
   ]
  },
  {
   "cell_type": "code",
   "execution_count": 3,
   "id": "088d9216-0cd5-4009-b267-9a9c5abe053c",
   "metadata": {},
   "outputs": [
    {
     "name": "stdout",
     "output_type": "stream",
     "text": [
      "Fetching data for AAPL...\n",
      "Fetching data for MSFT...\n",
      "Fetching data for GOOGL...\n",
      "Fetching data for AMZN...\n",
      "Fetching data for META...\n",
      "Fetching data for NVDA...\n",
      "Fetching data for TSLA...\n",
      "Fetching data for INTC...\n",
      "Fetching data for AMD...\n",
      "Fetching data for IBM...\n",
      "Data collection complete!\n"
     ]
    }
   ],
   "source": [
    "meta_data = []\n",
    "\n",
    "for ticker in TICKERS:\n",
    "    print(f\"Fetching data for {ticker}...\")\n",
    "    stock = yf.Ticker(ticker)\n",
    "\n",
    "    # --- Prices ---\n",
    "    df_price = stock.history(start=START_DATE, end=END_DATE,interval=\"1d\")\n",
    "    df_price.reset_index(inplace=True)\n",
    "    df_price.to_csv(os.path.join(BASE_DIR, \"prices\", f\"{ticker}_prices.csv\"), index=False)\n",
    "\n",
    "    # --- Fundamentals ---\n",
    "    fundamentals = get_fundamentals(stock)\n",
    "    df_fund = pd.DataFrame([fundamentals])\n",
    "    df_fund.to_csv(os.path.join(BASE_DIR, \"fundamentals\", f\"{ticker}_fundamentals.csv\"), index=False)\n",
    "\n",
    "    # --- Metadata for overview ---\n",
    "    meta_data.append({\n",
    "        \"Ticker\": ticker,\n",
    "        \"Name\": stock.info.get(\"shortName\", \"\"),\n",
    "        \"Sector\": stock.info.get(\"sector\", \"\")\n",
    "    })\n",
    "\n",
    "# === SAVE COMPANY LIST ===\n",
    "df_meta = pd.DataFrame(meta_data)\n",
    "df_meta.to_csv(os.path.join(BASE_DIR, \"metadata\", \"company_list.csv\"), index=False)   \n",
    "\n",
    "print(\"Data collection complete!\")"
   ]
  },
  {
   "cell_type": "code",
   "execution_count": null,
   "id": "558b904a-9981-4a3c-86ca-284da19bc8da",
   "metadata": {},
   "outputs": [],
   "source": []
  },
  {
   "cell_type": "code",
   "execution_count": null,
   "id": "3b42cf11-055f-44cd-956a-8034bcb5c105",
   "metadata": {},
   "outputs": [],
   "source": []
  },
  {
   "cell_type": "code",
   "execution_count": null,
   "id": "ab6e3eef-8983-4a07-87ad-3206be579f1d",
   "metadata": {},
   "outputs": [],
   "source": []
  }
 ],
 "metadata": {
  "kernelspec": {
   "display_name": "Python (AI_Trader)",
   "language": "python",
   "name": "ai_trader"
  },
  "language_info": {
   "codemirror_mode": {
    "name": "ipython",
    "version": 3
   },
   "file_extension": ".py",
   "mimetype": "text/x-python",
   "name": "python",
   "nbconvert_exporter": "python",
   "pygments_lexer": "ipython3",
   "version": "3.9.21"
  }
 },
 "nbformat": 4,
 "nbformat_minor": 5
}
