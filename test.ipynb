{
 "cells": [
  {
   "cell_type": "code",
   "execution_count": 8,
   "id": "02346de1-3f58-446a-bd01-fa2a4dd163f8",
   "metadata": {},
   "outputs": [
    {
     "name": "stdout",
     "output_type": "stream",
     "text": [
      "Index(['Tax Effect Of Unusual Items', 'Tax Rate For Calcs',\n",
      "       'Normalized EBITDA',\n",
      "       'Net Income From Continuing Operation Net Minority Interest',\n",
      "       'Reconciled Depreciation', 'Reconciled Cost Of Revenue', 'EBITDA',\n",
      "       'EBIT', 'Net Interest Income', 'Interest Expense', 'Interest Income',\n",
      "       'Normalized Income',\n",
      "       'Net Income From Continuing And Discontinued Operation',\n",
      "       'Total Expenses', 'Total Operating Income As Reported',\n",
      "       'Diluted Average Shares', 'Basic Average Shares', 'Diluted EPS',\n",
      "       'Basic EPS', 'Diluted NI Availto Com Stockholders',\n",
      "       'Net Income Common Stockholders', 'Net Income',\n",
      "       'Net Income Including Noncontrolling Interests',\n",
      "       'Net Income Continuous Operations', 'Tax Provision', 'Pretax Income',\n",
      "       'Other Income Expense', 'Other Non Operating Income Expenses',\n",
      "       'Net Non Operating Interest Income Expense',\n",
      "       'Interest Expense Non Operating', 'Interest Income Non Operating',\n",
      "       'Operating Income', 'Operating Expense', 'Research And Development',\n",
      "       'Selling General And Administration', 'Gross Profit', 'Cost Of Revenue',\n",
      "       'Total Revenue', 'Operating Revenue'],\n",
      "      dtype='object')\n",
      "Index(['Treasury Shares Number', 'Ordinary Shares Number', 'Share Issued',\n",
      "       'Net Debt', 'Total Debt', 'Tangible Book Value', 'Invested Capital',\n",
      "       'Working Capital', 'Net Tangible Assets', 'Capital Lease Obligations',\n",
      "       'Common Stock Equity', 'Total Capitalization',\n",
      "       'Total Equity Gross Minority Interest', 'Stockholders Equity',\n",
      "       'Gains Losses Not Affecting Retained Earnings',\n",
      "       'Other Equity Adjustments', 'Retained Earnings', 'Capital Stock',\n",
      "       'Common Stock', 'Total Liabilities Net Minority Interest',\n",
      "       'Total Non Current Liabilities Net Minority Interest',\n",
      "       'Other Non Current Liabilities', 'Tradeand Other Payables Non Current',\n",
      "       'Long Term Debt And Capital Lease Obligation',\n",
      "       'Long Term Capital Lease Obligation', 'Long Term Debt',\n",
      "       'Current Liabilities', 'Other Current Liabilities',\n",
      "       'Current Deferred Liabilities', 'Current Deferred Revenue',\n",
      "       'Current Debt And Capital Lease Obligation',\n",
      "       'Current Capital Lease Obligation', 'Current Debt',\n",
      "       'Other Current Borrowings', 'Commercial Paper',\n",
      "       'Payables And Accrued Expenses', 'Payables', 'Total Tax Payable',\n",
      "       'Income Tax Payable', 'Accounts Payable', 'Total Assets',\n",
      "       'Total Non Current Assets', 'Other Non Current Assets',\n",
      "       'Non Current Deferred Assets', 'Non Current Deferred Taxes Assets',\n",
      "       'Investments And Advances', 'Other Investments',\n",
      "       'Investmentin Financial Assets', 'Available For Sale Securities',\n",
      "       'Net PPE', 'Accumulated Depreciation', 'Gross PPE', 'Leases',\n",
      "       'Other Properties', 'Machinery Furniture Equipment',\n",
      "       'Land And Improvements', 'Properties', 'Current Assets',\n",
      "       'Other Current Assets', 'Inventory', 'Receivables', 'Other Receivables',\n",
      "       'Accounts Receivable',\n",
      "       'Cash Cash Equivalents And Short Term Investments',\n",
      "       'Other Short Term Investments', 'Cash And Cash Equivalents',\n",
      "       'Cash Equivalents', 'Cash Financial'],\n",
      "      dtype='object')\n",
      "Index(['Free Cash Flow', 'Repurchase Of Capital Stock', 'Repayment Of Debt',\n",
      "       'Issuance Of Debt', 'Issuance Of Capital Stock', 'Capital Expenditure',\n",
      "       'Interest Paid Supplemental Data', 'Income Tax Paid Supplemental Data',\n",
      "       'End Cash Position', 'Beginning Cash Position', 'Changes In Cash',\n",
      "       'Financing Cash Flow', 'Cash Flow From Continuing Financing Activities',\n",
      "       'Net Other Financing Charges', 'Cash Dividends Paid',\n",
      "       'Common Stock Dividend Paid', 'Net Common Stock Issuance',\n",
      "       'Common Stock Payments', 'Common Stock Issuance',\n",
      "       'Net Issuance Payments Of Debt', 'Net Short Term Debt Issuance',\n",
      "       'Net Long Term Debt Issuance', 'Long Term Debt Payments',\n",
      "       'Long Term Debt Issuance', 'Investing Cash Flow',\n",
      "       'Cash Flow From Continuing Investing Activities',\n",
      "       'Net Other Investing Changes', 'Net Investment Purchase And Sale',\n",
      "       'Sale Of Investment', 'Purchase Of Investment',\n",
      "       'Net Business Purchase And Sale', 'Purchase Of Business',\n",
      "       'Net PPE Purchase And Sale', 'Purchase Of PPE', 'Operating Cash Flow',\n",
      "       'Cash Flow From Continuing Operating Activities',\n",
      "       'Change In Working Capital', 'Change In Other Working Capital',\n",
      "       'Change In Other Current Liabilities', 'Change In Other Current Assets',\n",
      "       'Change In Payables And Accrued Expense', 'Change In Payable',\n",
      "       'Change In Account Payable', 'Change In Inventory',\n",
      "       'Change In Receivables', 'Changes In Account Receivables',\n",
      "       'Other Non Cash Items', 'Stock Based Compensation', 'Deferred Tax',\n",
      "       'Deferred Income Tax', 'Depreciation Amortization Depletion',\n",
      "       'Depreciation And Amortization',\n",
      "       'Net Income From Continuing Operations'],\n",
      "      dtype='object')\n"
     ]
    }
   ],
   "source": [
    "import yfinance as yf\n",
    "import pandas as pd\n",
    "import os\n",
    "\n",
    "BASE_DIR=\"/Users/dannyyu/Desktop/AI_Trader/data\"\n",
    "TICKERS = ['AAPL', 'MSFT', 'GOOGL', 'AMZN', 'META', 'NVDA', 'TSLA', 'INTC', 'AMD', 'IBM']\n",
    "START_DATE = \"2022-01-01\"\n",
    "END_DATE = \"2025-5-18\"\n",
    "\n",
    "\n",
    "ticker_obj = yf.Ticker('AAPL')\n",
    "info = ticker_obj.info\n",
    "\n",
    "recent_eps = info.get(\"trailingEps\", None)\n",
    "recent_pe = info.get(\"trailingPE\", None)\n",
    "\n",
    "\n",
    "income_stmt = ticker_obj.financials  # Income statement\n",
    "balance_sheet = ticker_obj.balance_sheet\n",
    "cashflow_stmt = ticker_obj.cashflow\n",
    "\n",
    "print(income_stmt.index)\n",
    "print(balance_sheet.index)\n",
    "print(cashflow_stmt.index)"
   ]
  },
  {
   "cell_type": "code",
   "execution_count": 9,
   "id": "0dacfb02-8577-4846-8c62-4b7e7f33d9a7",
   "metadata": {},
   "outputs": [
    {
     "data": {
      "text/plain": [
       "6.11"
      ]
     },
     "execution_count": 9,
     "metadata": {},
     "output_type": "execute_result"
    }
   ],
   "source": [
    "income_stmt.loc[\"Diluted EPS\", pd.Timestamp(\"2022-09-30\")]"
   ]
  },
  {
   "cell_type": "code",
   "execution_count": 5,
   "id": "9c5d73d2-a4f4-4903-8da7-2f6b635abc95",
   "metadata": {},
   "outputs": [
    {
     "data": {
      "text/plain": [
       "DatetimeIndex(['2024-09-30', '2023-09-30', '2022-09-30', '2021-09-30',\n",
       "               '2020-09-30'],\n",
       "              dtype='datetime64[ns]', freq=None)"
      ]
     },
     "execution_count": 5,
     "metadata": {},
     "output_type": "execute_result"
    }
   ],
   "source": [
    "common_dates = income_stmt.columns.intersection(balance_sheet.columns).intersection(cashflow_stmt.columns)\n",
    "common_dates"
   ]
  },
  {
   "cell_type": "code",
   "execution_count": 32,
   "id": "7be06608-a2cd-4244-ad7c-64c6ac056d4f",
   "metadata": {},
   "outputs": [
    {
     "name": "stdout",
     "output_type": "stream",
     "text": [
      "31.325039\n",
      "6.43\n",
      "                                 Open        High         Low       Close  \\\n",
      "Date                                                                        \n",
      "2024-09-27 00:00:00-04:00  227.659747  228.716032  226.503807  226.992081   \n",
      "2024-09-30 00:00:00-04:00  229.234200  232.183838  228.845566  232.183838   \n",
      "\n",
      "                             Volume  Dividends  Stock Splits  \n",
      "Date                                                          \n",
      "2024-09-27 00:00:00-04:00  34026000        0.0           0.0  \n",
      "2024-09-30 00:00:00-04:00  54541900        0.0           0.0  \n",
      "226.99208068847656\n"
     ]
    }
   ],
   "source": [
    "ticker=yf.Ticker(\"AAPL\")\n",
    "info = ticker.info\n",
    "print(info.get(\"trailingPE\", None))\n",
    "end_date=\"2024-10-01\"\n",
    "start_date=\"2024-09-27\"\n",
    "eps=info.get(\"trailingEps\", None)\n",
    "print(eps)\n",
    "hist_price = ticker.history(start=start_date, end=end_date)\n",
    "print(hist_price)\n",
    "hist_price=hist_price['Close'].iloc[0]\n",
    "print(hist_price)"
   ]
  },
  {
   "cell_type": "code",
   "execution_count": 63,
   "id": "ed15532a-bf82-4b01-bf50-9dfd82740444",
   "metadata": {},
   "outputs": [
    {
     "data": {
      "text/plain": [
       "Date\n",
       "2025-05-22 00:00:00-04:00    200.399506\n",
       "Name: Close, dtype: float64"
      ]
     },
     "execution_count": 63,
     "metadata": {},
     "output_type": "execute_result"
    }
   ],
   "source": [
    "ticker_obj=yf.Ticker(\"AAPL\")\n",
    "\n",
    "hist=ticker_obj.history(period=\"1d\")#start=start_date, end=end_date)\n",
    "#last_row=hist.iloc[-1]\n",
    "price=hist[\"Close\"]\n",
    "price"
   ]
  },
  {
   "cell_type": "code",
   "execution_count": 73,
   "id": "7a63ce9b-b276-4fa1-bcb1-8b94bcd7efeb",
   "metadata": {},
   "outputs": [],
   "source": [
    "income_stmt = ticker_obj.financials\n",
    "\n",
    "trailing_eps=info.get(\"trailingEps\", None)"
   ]
  },
  {
   "cell_type": "code",
   "execution_count": 74,
   "id": "13241814-2f6b-4c24-95ac-bbe84dceb6bf",
   "metadata": {},
   "outputs": [
    {
     "data": {
      "text/plain": [
       "Date\n",
       "2025-05-22 00:00:00-04:00    31.166331\n",
       "Name: Close, dtype: float64"
      ]
     },
     "execution_count": 74,
     "metadata": {},
     "output_type": "execute_result"
    }
   ],
   "source": [
    "trailing_pe=price/trailing_eps\n",
    "trailing_pe"
   ]
  },
  {
   "cell_type": "code",
   "execution_count": 75,
   "id": "074a3d69-e319-4a4d-9b87-e1f3ef920094",
   "metadata": {},
   "outputs": [
    {
     "data": {
      "text/plain": [
       "DatetimeIndex(['2024-09-30', '2023-09-30', '2022-09-30', '2021-09-30',\n",
       "               '2020-09-30'],\n",
       "              dtype='datetime64[ns]', freq=None)"
      ]
     },
     "execution_count": 75,
     "metadata": {},
     "output_type": "execute_result"
    }
   ],
   "source": [
    "income_stmt.columns"
   ]
  },
  {
   "cell_type": "code",
   "execution_count": 72,
   "id": "4bba8f8e-b4d5-495a-9452-95c2c8101ddd",
   "metadata": {},
   "outputs": [
    {
     "ename": "AttributeError",
     "evalue": "'Ticker' object has no attribute 'valuation_measures'",
     "output_type": "error",
     "traceback": [
      "\u001b[0;31m---------------------------------------------------------------------------\u001b[0m",
      "\u001b[0;31mAttributeError\u001b[0m                            Traceback (most recent call last)",
      "Cell \u001b[0;32mIn[72], line 1\u001b[0m\n\u001b[0;32m----> 1\u001b[0m data \u001b[38;5;241m=\u001b[39m \u001b[43mticker\u001b[49m\u001b[38;5;241;43m.\u001b[39;49m\u001b[43mvaluation_measures\u001b[49m\n",
      "\u001b[0;31mAttributeError\u001b[0m: 'Ticker' object has no attribute 'valuation_measures'"
     ]
    }
   ],
   "source": []
  },
  {
   "cell_type": "code",
   "execution_count": null,
   "id": "fdb2f0a8-863e-4e4c-9d53-a4e6d93a52f7",
   "metadata": {},
   "outputs": [],
   "source": []
  }
 ],
 "metadata": {
  "kernelspec": {
   "display_name": "Python (AI_Trader)",
   "language": "python",
   "name": "ai_trader"
  },
  "language_info": {
   "codemirror_mode": {
    "name": "ipython",
    "version": 3
   },
   "file_extension": ".py",
   "mimetype": "text/x-python",
   "name": "python",
   "nbconvert_exporter": "python",
   "pygments_lexer": "ipython3",
   "version": "3.9.21"
  }
 },
 "nbformat": 4,
 "nbformat_minor": 5
}
