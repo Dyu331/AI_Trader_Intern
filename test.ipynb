{
 "cells": [
  {
   "cell_type": "code",
   "execution_count": 101,
   "id": "02346de1-3f58-446a-bd01-fa2a4dd163f8",
   "metadata": {},
   "outputs": [
    {
     "name": "stdout",
     "output_type": "stream",
     "text": [
      "Index(['Treasury Shares Number', 'Ordinary Shares Number', 'Share Issued',\n",
      "       'Net Debt', 'Total Debt', 'Tangible Book Value', 'Invested Capital',\n",
      "       'Working Capital', 'Net Tangible Assets', 'Capital Lease Obligations',\n",
      "       'Common Stock Equity', 'Total Capitalization',\n",
      "       'Total Equity Gross Minority Interest', 'Minority Interest',\n",
      "       'Stockholders Equity', 'Other Equity Interest',\n",
      "       'Gains Losses Not Affecting Retained Earnings',\n",
      "       'Other Equity Adjustments', 'Treasury Stock', 'Retained Earnings',\n",
      "       'Capital Stock', 'Common Stock',\n",
      "       'Total Liabilities Net Minority Interest',\n",
      "       'Total Non Current Liabilities Net Minority Interest',\n",
      "       'Other Non Current Liabilities', 'Liabilities Heldfor Sale Non Current',\n",
      "       'Derivative Product Liabilities', 'Employee Benefits',\n",
      "       'Non Current Pension And Other Postretirement Benefit Plans',\n",
      "       'Non Current Accrued Expenses', 'Tradeand Other Payables Non Current',\n",
      "       'Non Current Deferred Liabilities', 'Non Current Deferred Revenue',\n",
      "       'Non Current Deferred Taxes Liabilities',\n",
      "       'Long Term Debt And Capital Lease Obligation',\n",
      "       'Long Term Capital Lease Obligation', 'Long Term Debt',\n",
      "       'Long Term Provisions', 'Current Liabilities',\n",
      "       'Other Current Liabilities', 'Current Deferred Liabilities',\n",
      "       'Current Deferred Revenue', 'Current Debt And Capital Lease Obligation',\n",
      "       'Current Capital Lease Obligation', 'Current Debt',\n",
      "       'Other Current Borrowings', 'Commercial Paper',\n",
      "       'Pensionand Other Post Retirement Benefit Plans Current',\n",
      "       'Payables And Accrued Expenses', 'Current Accrued Expenses', 'Payables',\n",
      "       'Total Tax Payable', 'Accounts Payable', 'Total Assets',\n",
      "       'Total Non Current Assets', 'Other Non Current Assets',\n",
      "       'Defined Pension Benefit', 'Non Current Prepaid Assets',\n",
      "       'Non Current Deferred Assets', 'Non Current Deferred Taxes Assets',\n",
      "       'Non Current Accounts Receivable', 'Financial Assets',\n",
      "       'Investments And Advances', 'Other Investments',\n",
      "       'Long Term Equity Investment',\n",
      "       'Investments In Other Ventures Under Equity Method',\n",
      "       'Goodwill And Other Intangible Assets', 'Other Intangible Assets',\n",
      "       'Goodwill', 'Net PPE', 'Accumulated Depreciation', 'Gross PPE',\n",
      "       'Other Properties', 'Machinery Furniture Equipment',\n",
      "       'Buildings And Improvements', 'Land And Improvements', 'Properties',\n",
      "       'Current Assets', 'Other Current Assets',\n",
      "       'Assets Held For Sale Current', 'Current Deferred Assets',\n",
      "       'Restricted Cash', 'Prepaid Assets', 'Inventory', 'Other Inventories',\n",
      "       'Finished Goods', 'Work In Process', 'Receivables', 'Other Receivables',\n",
      "       'Accounts Receivable', 'Allowance For Doubtful Accounts Receivable',\n",
      "       'Gross Accounts Receivable',\n",
      "       'Cash Cash Equivalents And Short Term Investments',\n",
      "       'Other Short Term Investments', 'Cash And Cash Equivalents'],\n",
      "      dtype='object')\n"
     ]
    }
   ],
   "source": [
    "import yfinance as yf\n",
    "import pandas as pd\n",
    "import os\n",
    "import datetime\n",
    "\n",
    "BASE_DIR=\"/Users/dannyyu/Desktop/AI_Trader/data\"\n",
    "TICKERS = ['AAPL', 'MSFT', 'GOOGL', 'AMZN', 'META', 'NVDA', 'TSLA', 'INTC', 'AMD', 'IBM']\n",
    "START_DATE = \"2022-01-01\"\n",
    "END_DATE = \"2025-5-18\"\n",
    "\n",
    "\n",
    "ticker_obj = yf.Ticker('IBM')\n",
    "info = ticker_obj.info\n",
    "\n",
    "recent_eps = info.get(\"trailingEps\", None)\n",
    "recent_pe = info.get(\"trailingPE\", None)\n",
    "\n",
    "\n",
    "income_stmt = ticker_obj.financials  # Income statement\n",
    "balance_sheet = ticker_obj.balance_sheet\n",
    "cashflow_stmt = ticker_obj.cashflow\n",
    "\n",
    "#print(income_stmt.index)\n",
    "print(balance_sheet.index)\n",
    "#print(cashflow_stmt.index)"
   ]
  },
  {
   "cell_type": "code",
   "execution_count": 39,
   "id": "0dacfb02-8577-4846-8c62-4b7e7f33d9a7",
   "metadata": {},
   "outputs": [
    {
     "name": "stdout",
     "output_type": "stream",
     "text": [
      "DatetimeIndex(['2024-12-31', '2023-12-31', '2022-12-31', '2021-12-31',\n",
      "               '2020-12-31'],\n",
      "              dtype='datetime64[ns]', freq=None)\n"
     ]
    }
   ],
   "source": [
    "#income_stmt.loc[\"Diluted EPS\", pd.Timestamp(\"2022-09-30\")]\n",
    "common_dates = income_stmt.columns.intersection(balance_sheet.columns).intersection(cashflow_stmt.columns)\n",
    "print(balance_sheet.columns)"
   ]
  },
  {
   "cell_type": "code",
   "execution_count": 5,
   "id": "9c5d73d2-a4f4-4903-8da7-2f6b635abc95",
   "metadata": {},
   "outputs": [
    {
     "data": {
      "text/plain": [
       "DatetimeIndex(['2024-09-30', '2023-09-30', '2022-09-30', '2021-09-30',\n",
       "               '2020-09-30'],\n",
       "              dtype='datetime64[ns]', freq=None)"
      ]
     },
     "execution_count": 5,
     "metadata": {},
     "output_type": "execute_result"
    }
   ],
   "source": [
    "common_dates = income_stmt.columns.intersection(balance_sheet.columns).intersection(cashflow_stmt.columns)\n",
    "common_dates"
   ]
  },
  {
   "cell_type": "code",
   "execution_count": 32,
   "id": "7be06608-a2cd-4244-ad7c-64c6ac056d4f",
   "metadata": {},
   "outputs": [
    {
     "name": "stdout",
     "output_type": "stream",
     "text": [
      "31.325039\n",
      "6.43\n",
      "                                 Open        High         Low       Close  \\\n",
      "Date                                                                        \n",
      "2024-09-27 00:00:00-04:00  227.659747  228.716032  226.503807  226.992081   \n",
      "2024-09-30 00:00:00-04:00  229.234200  232.183838  228.845566  232.183838   \n",
      "\n",
      "                             Volume  Dividends  Stock Splits  \n",
      "Date                                                          \n",
      "2024-09-27 00:00:00-04:00  34026000        0.0           0.0  \n",
      "2024-09-30 00:00:00-04:00  54541900        0.0           0.0  \n",
      "226.99208068847656\n"
     ]
    }
   ],
   "source": [
    "ticker=yf.Ticker(\"AAPL\")\n",
    "info = ticker.info\n",
    "print(info.get(\"trailingPE\", None))\n",
    "end_date=\"2024-10-01\"\n",
    "start_date=\"2024-09-27\"\n",
    "eps=info.get(\"trailingEps\", None)\n",
    "print(eps)\n",
    "hist_price = ticker.history(start=start_date, end=end_date)\n",
    "print(hist_price)\n",
    "hist_price=hist_price['Close'].iloc[0]\n",
    "print(hist_price)"
   ]
  },
  {
   "cell_type": "code",
   "execution_count": 49,
   "id": "ed15532a-bf82-4b01-bf50-9dfd82740444",
   "metadata": {},
   "outputs": [
    {
     "data": {
      "text/plain": [
       "Date\n",
       "2025-05-23 00:00:00-04:00    131.289993\n",
       "Name: Close, dtype: float64"
      ]
     },
     "execution_count": 49,
     "metadata": {},
     "output_type": "execute_result"
    }
   ],
   "source": [
    "ticker_obj=yf.Ticker(\"NVDA\")\n",
    "\n",
    "hist=ticker_obj.history(period=\"1d\")#start=start_date, end=end_date)\n",
    "#last_row=hist.iloc[-1]\n",
    "price=hist[\"Close\"]\n",
    "price"
   ]
  },
  {
   "cell_type": "code",
   "execution_count": 67,
   "id": "7a63ce9b-b276-4fa1-bcb1-8b94bcd7efeb",
   "metadata": {},
   "outputs": [
    {
     "data": {
      "text/plain": [
       "44.21026"
      ]
     },
     "execution_count": 67,
     "metadata": {},
     "output_type": "execute_result"
    }
   ],
   "source": [
    "income_stmt = ticker_obj.financials\n",
    "\n",
    "trailing_eps=info.get(\"trailingPE\", None)\n",
    "trailing_eps"
   ]
  },
  {
   "cell_type": "code",
   "execution_count": 69,
   "id": "13241814-2f6b-4c24-95ac-bbe84dceb6bf",
   "metadata": {},
   "outputs": [
    {
     "data": {
      "text/plain": [
       "Date\n",
       "2025-05-23 00:00:00-04:00    2.969672\n",
       "Name: Close, dtype: float64"
      ]
     },
     "execution_count": 69,
     "metadata": {},
     "output_type": "execute_result"
    }
   ],
   "source": [
    "trailing_pe=price/trailing_eps\n",
    "trailing_pe"
   ]
  },
  {
   "cell_type": "code",
   "execution_count": 71,
   "id": "074a3d69-e319-4a4d-9b87-e1f3ef920094",
   "metadata": {},
   "outputs": [
    {
     "data": {
      "text/plain": [
       "DatetimeIndex(['2025-01-31', '2024-01-31', '2023-01-31', '2022-01-31'], dtype='datetime64[ns]', freq=None)"
      ]
     },
     "execution_count": 71,
     "metadata": {},
     "output_type": "execute_result"
    }
   ],
   "source": [
    "income_stmt.columns"
   ]
  },
  {
   "cell_type": "code",
   "execution_count": 72,
   "id": "4bba8f8e-b4d5-495a-9452-95c2c8101ddd",
   "metadata": {},
   "outputs": [
    {
     "ename": "AttributeError",
     "evalue": "'Ticker' object has no attribute 'valuation_measures'",
     "output_type": "error",
     "traceback": [
      "\u001b[0;31m---------------------------------------------------------------------------\u001b[0m",
      "\u001b[0;31mAttributeError\u001b[0m                            Traceback (most recent call last)",
      "Cell \u001b[0;32mIn[72], line 1\u001b[0m\n\u001b[0;32m----> 1\u001b[0m data \u001b[38;5;241m=\u001b[39m \u001b[43mticker\u001b[49m\u001b[38;5;241;43m.\u001b[39;49m\u001b[43mvaluation_measures\u001b[49m\n",
      "\u001b[0;31mAttributeError\u001b[0m: 'Ticker' object has no attribute 'valuation_measures'"
     ]
    }
   ],
   "source": []
  },
  {
   "cell_type": "code",
   "execution_count": null,
   "id": "d41c7233-0971-460a-9b25-f2cd2cbde776",
   "metadata": {},
   "outputs": [],
   "source": []
  },
  {
   "cell_type": "code",
   "execution_count": 103,
   "id": "fdb2f0a8-863e-4e4c-9d53-a4e6d93a52f7",
   "metadata": {},
   "outputs": [],
   "source": [
    "def get_fundamentals_history(ticker, years=3):\n",
    "    ticker_obj = yf.Ticker(ticker)\n",
    "    info = ticker_obj.info\n",
    "    \n",
    "    # Most recent static values\n",
    "    recent_eps = info.get(\"trailingEps\", None)\n",
    "    recent_pe = info.get(\"trailingPE\", None)\n",
    "    \n",
    "    # Annual financial statements\n",
    "    income_stmt = ticker_obj.financials  # Income statement\n",
    "    balance_sheet = ticker_obj.balance_sheet\n",
    "    cashflow_stmt = ticker_obj.cashflow\n",
    "\n",
    "    # All dates available (annual format)\n",
    "    common_dates = income_stmt.columns.intersection(balance_sheet.columns).intersection(cashflow_stmt.columns)\n",
    "    current_year = datetime.datetime.now().year\n",
    "    common_dates = [date for date in common_dates if date.year != current_year]\n",
    "\n",
    "    \n",
    "    fundamentals = []\n",
    "    \n",
    "    #get the most recent fundamental indicators\n",
    "    info = ticker_obj.info\n",
    "    fundamentals.append({\n",
    "                \"Date\": pd.Timestamp.today().strftime('%Y-%m-%d'),\n",
    "                \"DilutedEPS\": info.get(\"trailingEps\", None),\n",
    "                \"PE\": info.get(\"trailingPE\", None),\n",
    "                \"Revenue\": info.get(\"totalRevenue\", None),\n",
    "                \"CashFlow\": info.get(\"operatingCashflow\", None),\n",
    "                \"EBITDA\": info.get(\"ebitda\", None),\n",
    "                \"GrossProfit\": info.get(\"grossProfits\", None),\n",
    "                \"OperatingMargin\": info.get(\"operatingMargins\", None),\n",
    "                \"ROE\": info.get(\"returnOnEquity\", None),\n",
    "                \"DebtToEquity\": info.get(\"debtToEquity\", None),\n",
    "            })\n",
    "\n",
    "    #get the fundamental indicators for the past 3 years\n",
    "    for date in common_dates:\n",
    "        try:\n",
    "            if pd.Timestamp.today().year - date.year > years:\n",
    "                continue\n",
    "    \n",
    "        \n",
    "            revenue = income_stmt.loc[\"Total Revenue\", date]\n",
    "            gross_profit = income_stmt.loc[\"Gross Profit\", date]\n",
    "            ebitda = income_stmt.loc[\"EBITDA\", date]\n",
    "            net_income = income_stmt.loc[\"Net Income\", date]\n",
    "    \n",
    "            operating_cashflow = cashflow_stmt.loc[\"Operating Cash Flow\", date]\n",
    "            total_equity = balance_sheet.loc[\"Common Stock Equity\", date]\n",
    "            total_debt = balance_sheet.loc[\"Total Debt\", date]\n",
    "    \n",
    "            roe = net_income / total_equity if total_equity else None\n",
    "            debt_to_equity = (total_debt / total_equity)*100 if total_equity else None\n",
    "            operating_margin = net_income / revenue if revenue else None\n",
    "\n",
    "            diluted_eps = income_stmt.loc[\"Diluted EPS\", date]\n",
    "\n",
    "            hist_price = get_closest_price(ticker_obj, date)\n",
    "\n",
    "            if hist_price and diluted_eps:\n",
    "                pe_ratio = hist_price / diluted_eps\n",
    "            else:\n",
    "                pe_ratio = recent_pe\n",
    "    \n",
    "            fundamentals.append({\n",
    "                \"Date\": date.strftime('%Y-%m-%d'),\n",
    "                \"DilutedEPS\": diluted_eps,\n",
    "                \"PE\": pe_ratio,\n",
    "                \"Revenue\": revenue,\n",
    "                \"CashFlow\": operating_cashflow,\n",
    "                \"EBITDA\": ebitda,\n",
    "                \"GrossProfit\": gross_profit,\n",
    "                \"OperatingMargin\": round(operating_margin,8),\n",
    "                \"ROE\": round(roe,3),\n",
    "                \"DebtToEquity\": round(debt_to_equity,5)\n",
    "            })\n",
    "        except Exception as e:\n",
    "            print(f\"Error processing {ticker} for {date.date()}: {e}\")\n",
    "            continue\n",
    "\n",
    "    return pd.DataFrame(fundamentals)\n",
    "\n",
    "def get_closest_price(ticker_obj, target_date, lookback_days=3):\n",
    "    try:\n",
    "        start_date = target_date - pd.Timedelta(days=lookback_days)\n",
    "        end_date = target_date + pd.Timedelta(days=1)\n",
    "\n",
    "        hist = ticker_obj.history(start=start_date, end=end_date)\n",
    "        \n",
    "        if not hist.empty:\n",
    "            last_row = hist.iloc[-1]\n",
    "            timestamp_str = hist.index[-1].strftime(\"%Y-%m-%d\")\n",
    "           # print(\"Data retrieved on date \"+timestamp_str)\n",
    "            return last_row['Close']\n",
    "        else:\n",
    "            print(f\"No price data found for {ticker_obj.ticker} between {start_date.date()} and {end_date.date()}\")\n",
    "            return None\n",
    "\n",
    "    except Exception as e:\n",
    "        print(f\"Error retrieving price for {ticker_obj.ticker} near {target_date.date()}: {e}\")\n",
    "        return None"
   ]
  },
  {
   "cell_type": "code",
   "execution_count": 105,
   "id": "c707361d-0071-4584-b814-a711fb364ffc",
   "metadata": {},
   "outputs": [
    {
     "data": {
      "text/html": [
       "<div>\n",
       "<style scoped>\n",
       "    .dataframe tbody tr th:only-of-type {\n",
       "        vertical-align: middle;\n",
       "    }\n",
       "\n",
       "    .dataframe tbody tr th {\n",
       "        vertical-align: top;\n",
       "    }\n",
       "\n",
       "    .dataframe thead th {\n",
       "        text-align: right;\n",
       "    }\n",
       "</style>\n",
       "<table border=\"1\" class=\"dataframe\">\n",
       "  <thead>\n",
       "    <tr style=\"text-align: right;\">\n",
       "      <th></th>\n",
       "      <th>Date</th>\n",
       "      <th>DilutedEPS</th>\n",
       "      <th>PE</th>\n",
       "      <th>Revenue</th>\n",
       "      <th>CashFlow</th>\n",
       "      <th>EBITDA</th>\n",
       "      <th>GrossProfit</th>\n",
       "      <th>OperatingMargin</th>\n",
       "      <th>ROE</th>\n",
       "      <th>DebtToEquity</th>\n",
       "    </tr>\n",
       "  </thead>\n",
       "  <tbody>\n",
       "    <tr>\n",
       "      <th>0</th>\n",
       "      <td>2025-05-26</td>\n",
       "      <td>2.940</td>\n",
       "      <td>44.656460</td>\n",
       "      <td>1.304970e+11</td>\n",
       "      <td>6.408900e+10</td>\n",
       "      <td>8.331700e+10</td>\n",
       "      <td>9.785800e+10</td>\n",
       "      <td>0.611070</td>\n",
       "      <td>1.19177</td>\n",
       "      <td>12.94600</td>\n",
       "    </tr>\n",
       "    <tr>\n",
       "      <th>1</th>\n",
       "      <td>2024-01-31</td>\n",
       "      <td>1.190</td>\n",
       "      <td>51.683952</td>\n",
       "      <td>6.092200e+10</td>\n",
       "      <td>2.809000e+10</td>\n",
       "      <td>3.558300e+10</td>\n",
       "      <td>4.430100e+10</td>\n",
       "      <td>0.488493</td>\n",
       "      <td>0.69200</td>\n",
       "      <td>25.72479</td>\n",
       "    </tr>\n",
       "    <tr>\n",
       "      <th>2</th>\n",
       "      <td>2023-01-31</td>\n",
       "      <td>0.174</td>\n",
       "      <td>112.189677</td>\n",
       "      <td>2.697400e+10</td>\n",
       "      <td>5.641000e+09</td>\n",
       "      <td>5.986000e+09</td>\n",
       "      <td>1.535600e+10</td>\n",
       "      <td>0.161934</td>\n",
       "      <td>0.19800</td>\n",
       "      <td>54.43645</td>\n",
       "    </tr>\n",
       "    <tr>\n",
       "      <th>3</th>\n",
       "      <td>2022-01-31</td>\n",
       "      <td>0.385</td>\n",
       "      <td>63.488557</td>\n",
       "      <td>2.691400e+10</td>\n",
       "      <td>9.108000e+09</td>\n",
       "      <td>1.135100e+10</td>\n",
       "      <td>1.747500e+10</td>\n",
       "      <td>0.362339</td>\n",
       "      <td>0.36600</td>\n",
       "      <td>44.45739</td>\n",
       "    </tr>\n",
       "  </tbody>\n",
       "</table>\n",
       "</div>"
      ],
      "text/plain": [
       "         Date  DilutedEPS          PE       Revenue      CashFlow  \\\n",
       "0  2025-05-26       2.940   44.656460  1.304970e+11  6.408900e+10   \n",
       "1  2024-01-31       1.190   51.683952  6.092200e+10  2.809000e+10   \n",
       "2  2023-01-31       0.174  112.189677  2.697400e+10  5.641000e+09   \n",
       "3  2022-01-31       0.385   63.488557  2.691400e+10  9.108000e+09   \n",
       "\n",
       "         EBITDA   GrossProfit  OperatingMargin      ROE  DebtToEquity  \n",
       "0  8.331700e+10  9.785800e+10         0.611070  1.19177      12.94600  \n",
       "1  3.558300e+10  4.430100e+10         0.488493  0.69200      25.72479  \n",
       "2  5.986000e+09  1.535600e+10         0.161934  0.19800      54.43645  \n",
       "3  1.135100e+10  1.747500e+10         0.362339  0.36600      44.45739  "
      ]
     },
     "execution_count": 105,
     "metadata": {},
     "output_type": "execute_result"
    }
   ],
   "source": [
    "df=get_fundamentals_history(\"NVDA\")\n",
    "df"
   ]
  },
  {
   "cell_type": "code",
   "execution_count": 98,
   "id": "1ec3a7bf-9b8b-4967-ab59-d6e29b260071",
   "metadata": {},
   "outputs": [
    {
     "name": "stdout",
     "output_type": "stream",
     "text": [
      "AAPL\n",
      "         Date  DilutedEPS         PE       Revenue      CashFlow  \\\n",
      "0  2025-05-26        6.42  30.415888  4.003660e+11  1.095560e+11   \n",
      "1  2024-09-30        6.08  38.188131  3.910350e+11  1.182540e+11   \n",
      "2  2023-09-30        6.13  27.690326  3.832850e+11  1.105430e+11   \n",
      "3  2022-09-30        6.11  22.292429  3.943280e+11  1.221510e+11   \n",
      "\n",
      "         EBITDA   GrossProfit  OperatingMargin      ROE  DebtToEquity  \n",
      "0  1.388660e+11  1.866990e+11         0.310290  1.38015     146.99400  \n",
      "1  1.346610e+11  1.806830e+11         0.239713  1.64600     187.23266  \n",
      "2  1.258200e+11  1.691480e+11         0.253062  1.56100     178.75326  \n",
      "3  1.305410e+11  1.707820e+11         0.253096  1.97000     261.44616  \n",
      "MSFT\n",
      "         Date  DilutedEPS         PE       Revenue      CashFlow  \\\n",
      "0  2025-05-26       12.92  34.843650  2.700100e+11  1.307100e+11   \n",
      "1  2024-06-30       11.80  37.588928  2.451220e+11  1.185480e+11   \n",
      "2  2023-06-30        9.68  34.641096  2.119150e+11  8.758200e+10   \n",
      "3  2022-06-30        9.65  25.956098  1.982700e+11  8.903500e+10   \n",
      "\n",
      "         EBITDA   GrossProfit  OperatingMargin     ROE  DebtToEquity  \n",
      "0  1.491730e+11  1.865090e+11         0.456710  0.3361      32.62600  \n",
      "1  1.330090e+11  1.710080e+11         0.359560  0.3280      25.00289  \n",
      "2  1.051400e+11  1.460520e+11         0.341462  0.3510      29.07775  \n",
      "3  1.002390e+11  1.356200e+11         0.366863  0.4370      36.78952  \n",
      "GOOGL\n",
      "         Date  DilutedEPS         PE       Revenue      CashFlow  \\\n",
      "0  2025-05-26        8.96  18.802456  3.597130e+11  1.326010e+11   \n",
      "1  2024-12-31        8.04  23.517692  3.500180e+11  1.252990e+11   \n",
      "2  2023-12-31        5.80  23.969884  3.073940e+11  1.017460e+11   \n",
      "3  2022-12-31        4.56  19.256620  2.828360e+11  9.149500e+10   \n",
      "\n",
      "         EBITDA   GrossProfit  OperatingMargin      ROE  DebtToEquity  \n",
      "0  1.357050e+11  2.107580e+11         0.339180  0.34789       8.25400  \n",
      "1  1.353940e+11  2.037120e+11         0.286037  0.30800       7.83213  \n",
      "2  9.797100e+10  1.740620e+11         0.240066  0.26000       9.57058  \n",
      "3  8.516000e+10  1.566330e+11         0.212038  0.23400      11.58684  \n",
      "AMZN\n",
      "         Date  DilutedEPS          PE       Revenue      CashFlow  \\\n",
      "0  2025-05-26        6.13   32.787930  6.503130e+11  1.139030e+11   \n",
      "1  2024-12-31        5.53   39.672694  6.379590e+11  1.158770e+11   \n",
      "2  2023-12-31        2.90   52.393104  5.747850e+11  8.494600e+10   \n",
      "3  2022-12-31       -0.27 -311.111111  5.139830e+11  4.675200e+10   \n",
      "\n",
      "         EBITDA   GrossProfit  OperatingMargin     ROE  DebtToEquity  \n",
      "0  1.261440e+11  3.196820e+11         0.118230  0.2524      51.64100  \n",
      "1  1.238150e+11  3.116710e+11         0.092871  0.2070      45.77403  \n",
      "2  8.940200e+10  2.700460e+11         0.052933  0.1510      67.17573  \n",
      "3  3.835200e+10  2.251520e+11        -0.005296 -0.0190      95.94298  \n",
      "META\n",
      "         Date  DilutedEPS         PE       Revenue      CashFlow  \\\n",
      "0  2025-05-26       25.58  24.513683  1.703600e+11  9.610800e+10   \n",
      "1  2024-12-31       23.86  24.517584  1.645010e+11  9.132800e+10   \n",
      "2  2023-12-31       14.87  23.691972  1.349020e+11  7.111300e+10   \n",
      "3  2022-12-31        8.59  13.943596  1.166090e+11  5.047500e+10   \n",
      "\n",
      "         EBITDA   GrossProfit  OperatingMargin      ROE  DebtToEquity  \n",
      "0  8.798000e+10  1.392980e+11         0.414870  0.39835      26.76300  \n",
      "1  8.687600e+10  1.343400e+11         0.379086  0.34100      26.86203  \n",
      "2  5.905200e+10  1.089430e+11         0.289825  0.25500      24.30926  \n",
      "3  3.769000e+10  9.136000e+10         0.198955  0.18500      21.15215  \n",
      "NVDA\n",
      "         Date  DilutedEPS          PE       Revenue      CashFlow  \\\n",
      "0  2025-05-26       2.940   44.656460  1.304970e+11  6.408900e+10   \n",
      "1  2025-01-31       2.940   40.836381  1.304970e+11  6.408900e+10   \n",
      "2  2024-01-31       1.190   51.683952  6.092200e+10  2.809000e+10   \n",
      "3  2023-01-31       0.174  112.189677  2.697400e+10  5.641000e+09   \n",
      "4  2022-01-31       0.385   63.488557  2.691400e+10  9.108000e+09   \n",
      "\n",
      "         EBITDA   GrossProfit  OperatingMargin      ROE  DebtToEquity  \n",
      "0  8.331700e+10  9.785800e+10         0.611070  1.19177      12.94600  \n",
      "1  8.613700e+10  9.785800e+10         0.558480  0.91900      12.94641  \n",
      "2  3.558300e+10  4.430100e+10         0.488493  0.69200      25.72479  \n",
      "3  5.986000e+09  1.535600e+10         0.161934  0.19800      54.43645  \n",
      "4  1.135100e+10  1.747500e+10         0.362339  0.36600      44.45739  \n",
      "TSLA\n",
      "         Date  DilutedEPS          PE       Revenue      CashFlow  \\\n",
      "0  2025-05-26        1.76  192.806820  9.572400e+10  1.683700e+10   \n",
      "1  2024-12-31        2.04  197.960783  9.769000e+10  1.492300e+10   \n",
      "2  2023-12-31        4.31   57.651971  9.677300e+10  1.325600e+10   \n",
      "3  2022-12-31        3.62   34.027624  8.146200e+10  1.472400e+10   \n",
      "\n",
      "         EBITDA   GrossProfit  OperatingMargin      ROE  DebtToEquity  \n",
      "0  1.255000e+10  1.690700e+10         0.025500  0.08774      17.40700  \n",
      "1  1.470800e+10  1.745000e+10         0.072986  0.09800      18.68391  \n",
      "2  1.479600e+10  1.766000e+10         0.154992  0.23900      15.28403  \n",
      "3  1.765700e+10  2.085300e+10         0.154465  0.28100      12.85791  \n",
      "INTC\n",
      "         Date  DilutedEPS          PE       Revenue      CashFlow  \\\n",
      "0  2025-05-26       -4.48         NaN  5.304400e+10  1.032400e+10   \n",
      "1  2024-12-31       -4.38   -4.577625  5.310100e+10  8.288000e+09   \n",
      "2  2023-12-31        0.40  123.964758  5.422800e+10  1.147100e+10   \n",
      "3  2022-12-31        1.94   13.137043  6.305400e+10  1.543300e+10   \n",
      "\n",
      "         EBITDA   GrossProfit  OperatingMargin      ROE  DebtToEquity  \n",
      "0  8.115000e+09  1.756900e+10        -0.002450 -0.18127      47.12900  \n",
      "1  1.203000e+09  1.734500e+10        -0.353214 -0.18900      50.37876  \n",
      "2  1.124200e+10  2.171100e+10         0.031146  0.01600      46.65783  \n",
      "3  2.129900e+10  2.686600e+10         0.127097  0.07900      41.41763  \n",
      "AMD\n",
      "         Date  DilutedEPS          PE       Revenue      CashFlow  \\\n",
      "0  2025-05-26        1.37   80.518250  2.775000e+10  3.459000e+09   \n",
      "1  2024-12-31        1.00  120.790001  2.578500e+10  3.041000e+09   \n",
      "2  2023-12-31        0.53  278.132082  2.268000e+10  1.667000e+09   \n",
      "3  2022-12-31        0.84   77.107139  2.360100e+10  3.565000e+09   \n",
      "\n",
      "         EBITDA   GrossProfit  OperatingMargin      ROE  DebtToEquity  \n",
      "0  5.878000e+09  1.486800e+10         0.108360  0.03904       8.17400  \n",
      "1  5.258000e+09  1.272500e+10         0.063642  0.02900       3.84241  \n",
      "2  4.149000e+09  1.046000e+10         0.037654  0.01500       5.37286  \n",
      "3  5.534000e+09  1.060300e+10         0.055930  0.02400       5.22922  \n",
      "IBM\n",
      "         Date  DilutedEPS         PE       Revenue      CashFlow  \\\n",
      "0  2025-05-26        5.85  44.210260  6.283200e+10  1.364700e+10   \n",
      "1  2024-12-31         NaN        NaN  6.275300e+10  1.344500e+10   \n",
      "2  2023-12-31        8.14  19.135481  6.186000e+10  1.393100e+10   \n",
      "3  2022-12-31        1.80  71.018261  6.053000e+10  1.043500e+10   \n",
      "\n",
      "         EBITDA   GrossProfit  OperatingMargin      ROE  DebtToEquity  \n",
      "0  1.395000e+10  3.584000e+10         0.123990  0.21851     247.97800  \n",
      "1  1.217600e+10  3.555100e+10         0.095979  0.22100     213.84993  \n",
      "2  1.469300e+10  3.430000e+10         0.121274  0.33300     265.98766  \n",
      "3  7.174000e+09  3.268700e+10         0.027094  0.07500     246.14017  \n"
     ]
    }
   ],
   "source": [
    "for ticker in TICKERS:\n",
    "    df=get_fundamentals_history(ticker) \n",
    "    print(ticker)\n",
    "    print(df)"
   ]
  },
  {
   "cell_type": "code",
   "execution_count": 94,
   "id": "3110b1fe-dd22-4fd3-80fb-4b14429d927b",
   "metadata": {},
   "outputs": [
    {
     "name": "stdout",
     "output_type": "stream",
     "text": [
      "         Date  DilutedEPS          PE       Revenue      CashFlow  \\\n",
      "0  2025-05-26       2.940   44.656460  1.304970e+11  6.408900e+10   \n",
      "1  2025-01-31       2.940   40.836381  1.304970e+11  6.408900e+10   \n",
      "2  2024-01-31       1.190   51.683952  6.092200e+10  2.809000e+10   \n",
      "3  2023-01-31       0.174  112.189677  2.697400e+10  5.641000e+09   \n",
      "4  2022-01-31       0.385   63.488557  2.691400e+10  9.108000e+09   \n",
      "\n",
      "         EBITDA   GrossProfit  OperatingMargin      ROE  DebtToEquity  \n",
      "0  8.331700e+10  9.785800e+10         0.611070  1.19177      12.94600  \n",
      "1  8.613700e+10  9.785800e+10         0.558480  0.91900      12.94641  \n",
      "2  3.558300e+10  4.430100e+10         0.488493  0.69200      25.72479  \n",
      "3  5.986000e+09  1.535600e+10         0.161934  0.19800      54.43645  \n",
      "4  1.135100e+10  1.747500e+10         0.362339  0.36600      44.45739  \n"
     ]
    }
   ],
   "source": []
  },
  {
   "cell_type": "code",
   "execution_count": null,
   "id": "580963d8-04a6-48fd-ab1a-8e6c6edd04f9",
   "metadata": {},
   "outputs": [],
   "source": []
  }
 ],
 "metadata": {
  "kernelspec": {
   "display_name": "Python (AI_Trader)",
   "language": "python",
   "name": "ai_trader"
  },
  "language_info": {
   "codemirror_mode": {
    "name": "ipython",
    "version": 3
   },
   "file_extension": ".py",
   "mimetype": "text/x-python",
   "name": "python",
   "nbconvert_exporter": "python",
   "pygments_lexer": "ipython3",
   "version": "3.9.21"
  }
 },
 "nbformat": 4,
 "nbformat_minor": 5
}
