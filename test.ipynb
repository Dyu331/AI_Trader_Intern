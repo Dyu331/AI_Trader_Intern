{
 "cells": [
  {
   "cell_type": "code",
   "execution_count": 45,
   "id": "02346de1-3f58-446a-bd01-fa2a4dd163f8",
   "metadata": {},
   "outputs": [
    {
     "name": "stdout",
     "output_type": "stream",
     "text": [
      "Index(['Treasury Shares Number', 'Ordinary Shares Number', 'Share Issued',\n",
      "       'Net Debt', 'Total Debt', 'Tangible Book Value', 'Invested Capital',\n",
      "       'Working Capital', 'Net Tangible Assets', 'Capital Lease Obligations',\n",
      "       'Common Stock Equity', 'Total Capitalization',\n",
      "       'Total Equity Gross Minority Interest', 'Minority Interest',\n",
      "       'Stockholders Equity', 'Other Equity Interest',\n",
      "       'Gains Losses Not Affecting Retained Earnings',\n",
      "       'Other Equity Adjustments', 'Treasury Stock', 'Retained Earnings',\n",
      "       'Capital Stock', 'Common Stock',\n",
      "       'Total Liabilities Net Minority Interest',\n",
      "       'Total Non Current Liabilities Net Minority Interest',\n",
      "       'Other Non Current Liabilities', 'Liabilities Heldfor Sale Non Current',\n",
      "       'Derivative Product Liabilities', 'Employee Benefits',\n",
      "       'Non Current Pension And Other Postretirement Benefit Plans',\n",
      "       'Non Current Accrued Expenses', 'Tradeand Other Payables Non Current',\n",
      "       'Non Current Deferred Liabilities', 'Non Current Deferred Revenue',\n",
      "       'Non Current Deferred Taxes Liabilities',\n",
      "       'Long Term Debt And Capital Lease Obligation',\n",
      "       'Long Term Capital Lease Obligation', 'Long Term Debt',\n",
      "       'Long Term Provisions', 'Current Liabilities',\n",
      "       'Other Current Liabilities', 'Current Deferred Liabilities',\n",
      "       'Current Deferred Revenue', 'Current Debt And Capital Lease Obligation',\n",
      "       'Current Capital Lease Obligation', 'Current Debt',\n",
      "       'Other Current Borrowings', 'Commercial Paper',\n",
      "       'Pensionand Other Post Retirement Benefit Plans Current',\n",
      "       'Payables And Accrued Expenses', 'Current Accrued Expenses', 'Payables',\n",
      "       'Total Tax Payable', 'Accounts Payable', 'Total Assets',\n",
      "       'Total Non Current Assets', 'Other Non Current Assets',\n",
      "       'Defined Pension Benefit', 'Non Current Prepaid Assets',\n",
      "       'Non Current Deferred Assets', 'Non Current Deferred Taxes Assets',\n",
      "       'Non Current Accounts Receivable', 'Financial Assets',\n",
      "       'Investments And Advances', 'Other Investments',\n",
      "       'Long Term Equity Investment',\n",
      "       'Investments In Other Ventures Under Equity Method',\n",
      "       'Goodwill And Other Intangible Assets', 'Other Intangible Assets',\n",
      "       'Goodwill', 'Net PPE', 'Accumulated Depreciation', 'Gross PPE',\n",
      "       'Other Properties', 'Machinery Furniture Equipment',\n",
      "       'Buildings And Improvements', 'Land And Improvements', 'Properties',\n",
      "       'Current Assets', 'Other Current Assets',\n",
      "       'Assets Held For Sale Current', 'Current Deferred Assets',\n",
      "       'Restricted Cash', 'Prepaid Assets', 'Inventory', 'Other Inventories',\n",
      "       'Finished Goods', 'Work In Process', 'Receivables', 'Other Receivables',\n",
      "       'Accounts Receivable', 'Allowance For Doubtful Accounts Receivable',\n",
      "       'Gross Accounts Receivable',\n",
      "       'Cash Cash Equivalents And Short Term Investments',\n",
      "       'Other Short Term Investments', 'Cash And Cash Equivalents'],\n",
      "      dtype='object')\n"
     ]
    }
   ],
   "source": [
    "import yfinance as yf\n",
    "import pandas as pd\n",
    "import os\n",
    "\n",
    "BASE_DIR=\"/Users/dannyyu/Desktop/AI_Trader/data\"\n",
    "TICKERS = ['AAPL', 'MSFT', 'GOOGL', 'AMZN', 'META', 'NVDA', 'TSLA', 'INTC', 'AMD', 'IBM']\n",
    "START_DATE = \"2022-01-01\"\n",
    "END_DATE = \"2025-5-18\"\n",
    "\n",
    "\n",
    "ticker_obj = yf.Ticker('IBM')\n",
    "info = ticker_obj.info\n",
    "\n",
    "recent_eps = info.get(\"trailingEps\", None)\n",
    "recent_pe = info.get(\"trailingPE\", None)\n",
    "\n",
    "\n",
    "income_stmt = ticker_obj.financials  # Income statement\n",
    "balance_sheet = ticker_obj.balance_sheet\n",
    "cashflow_stmt = ticker_obj.cashflow\n",
    "\n",
    "#print(income_stmt.index)\n",
    "print(balance_sheet.index)\n",
    "#print(cashflow_stmt.index)"
   ]
  },
  {
   "cell_type": "code",
   "execution_count": 39,
   "id": "0dacfb02-8577-4846-8c62-4b7e7f33d9a7",
   "metadata": {},
   "outputs": [
    {
     "name": "stdout",
     "output_type": "stream",
     "text": [
      "DatetimeIndex(['2024-12-31', '2023-12-31', '2022-12-31', '2021-12-31',\n",
      "               '2020-12-31'],\n",
      "              dtype='datetime64[ns]', freq=None)\n"
     ]
    }
   ],
   "source": [
    "#income_stmt.loc[\"Diluted EPS\", pd.Timestamp(\"2022-09-30\")]\n",
    "common_dates = income_stmt.columns.intersection(balance_sheet.columns).intersection(cashflow_stmt.columns)\n",
    "print(balance_sheet.columns)"
   ]
  },
  {
   "cell_type": "code",
   "execution_count": 5,
   "id": "9c5d73d2-a4f4-4903-8da7-2f6b635abc95",
   "metadata": {},
   "outputs": [
    {
     "data": {
      "text/plain": [
       "DatetimeIndex(['2024-09-30', '2023-09-30', '2022-09-30', '2021-09-30',\n",
       "               '2020-09-30'],\n",
       "              dtype='datetime64[ns]', freq=None)"
      ]
     },
     "execution_count": 5,
     "metadata": {},
     "output_type": "execute_result"
    }
   ],
   "source": [
    "common_dates = income_stmt.columns.intersection(balance_sheet.columns).intersection(cashflow_stmt.columns)\n",
    "common_dates"
   ]
  },
  {
   "cell_type": "code",
   "execution_count": 32,
   "id": "7be06608-a2cd-4244-ad7c-64c6ac056d4f",
   "metadata": {},
   "outputs": [
    {
     "name": "stdout",
     "output_type": "stream",
     "text": [
      "31.325039\n",
      "6.43\n",
      "                                 Open        High         Low       Close  \\\n",
      "Date                                                                        \n",
      "2024-09-27 00:00:00-04:00  227.659747  228.716032  226.503807  226.992081   \n",
      "2024-09-30 00:00:00-04:00  229.234200  232.183838  228.845566  232.183838   \n",
      "\n",
      "                             Volume  Dividends  Stock Splits  \n",
      "Date                                                          \n",
      "2024-09-27 00:00:00-04:00  34026000        0.0           0.0  \n",
      "2024-09-30 00:00:00-04:00  54541900        0.0           0.0  \n",
      "226.99208068847656\n"
     ]
    }
   ],
   "source": [
    "ticker=yf.Ticker(\"AAPL\")\n",
    "info = ticker.info\n",
    "print(info.get(\"trailingPE\", None))\n",
    "end_date=\"2024-10-01\"\n",
    "start_date=\"2024-09-27\"\n",
    "eps=info.get(\"trailingEps\", None)\n",
    "print(eps)\n",
    "hist_price = ticker.history(start=start_date, end=end_date)\n",
    "print(hist_price)\n",
    "hist_price=hist_price['Close'].iloc[0]\n",
    "print(hist_price)"
   ]
  },
  {
   "cell_type": "code",
   "execution_count": 63,
   "id": "ed15532a-bf82-4b01-bf50-9dfd82740444",
   "metadata": {},
   "outputs": [
    {
     "data": {
      "text/plain": [
       "Date\n",
       "2025-05-22 00:00:00-04:00    200.399506\n",
       "Name: Close, dtype: float64"
      ]
     },
     "execution_count": 63,
     "metadata": {},
     "output_type": "execute_result"
    }
   ],
   "source": [
    "ticker_obj=yf.Ticker(\"AAPL\")\n",
    "\n",
    "hist=ticker_obj.history(period=\"1d\")#start=start_date, end=end_date)\n",
    "#last_row=hist.iloc[-1]\n",
    "price=hist[\"Close\"]\n",
    "price"
   ]
  },
  {
   "cell_type": "code",
   "execution_count": 73,
   "id": "7a63ce9b-b276-4fa1-bcb1-8b94bcd7efeb",
   "metadata": {},
   "outputs": [],
   "source": [
    "income_stmt = ticker_obj.financials\n",
    "\n",
    "trailing_eps=info.get(\"trailingEps\", None)"
   ]
  },
  {
   "cell_type": "code",
   "execution_count": 74,
   "id": "13241814-2f6b-4c24-95ac-bbe84dceb6bf",
   "metadata": {},
   "outputs": [
    {
     "data": {
      "text/plain": [
       "Date\n",
       "2025-05-22 00:00:00-04:00    31.166331\n",
       "Name: Close, dtype: float64"
      ]
     },
     "execution_count": 74,
     "metadata": {},
     "output_type": "execute_result"
    }
   ],
   "source": [
    "trailing_pe=price/trailing_eps\n",
    "trailing_pe"
   ]
  },
  {
   "cell_type": "code",
   "execution_count": 75,
   "id": "074a3d69-e319-4a4d-9b87-e1f3ef920094",
   "metadata": {},
   "outputs": [
    {
     "data": {
      "text/plain": [
       "DatetimeIndex(['2024-09-30', '2023-09-30', '2022-09-30', '2021-09-30',\n",
       "               '2020-09-30'],\n",
       "              dtype='datetime64[ns]', freq=None)"
      ]
     },
     "execution_count": 75,
     "metadata": {},
     "output_type": "execute_result"
    }
   ],
   "source": [
    "income_stmt.columns"
   ]
  },
  {
   "cell_type": "code",
   "execution_count": 72,
   "id": "4bba8f8e-b4d5-495a-9452-95c2c8101ddd",
   "metadata": {},
   "outputs": [
    {
     "ename": "AttributeError",
     "evalue": "'Ticker' object has no attribute 'valuation_measures'",
     "output_type": "error",
     "traceback": [
      "\u001b[0;31m---------------------------------------------------------------------------\u001b[0m",
      "\u001b[0;31mAttributeError\u001b[0m                            Traceback (most recent call last)",
      "Cell \u001b[0;32mIn[72], line 1\u001b[0m\n\u001b[0;32m----> 1\u001b[0m data \u001b[38;5;241m=\u001b[39m \u001b[43mticker\u001b[49m\u001b[38;5;241;43m.\u001b[39;49m\u001b[43mvaluation_measures\u001b[49m\n",
      "\u001b[0;31mAttributeError\u001b[0m: 'Ticker' object has no attribute 'valuation_measures'"
     ]
    }
   ],
   "source": []
  },
  {
   "cell_type": "code",
   "execution_count": null,
   "id": "fdb2f0a8-863e-4e4c-9d53-a4e6d93a52f7",
   "metadata": {},
   "outputs": [],
   "source": []
  }
 ],
 "metadata": {
  "kernelspec": {
   "display_name": "Python (AI_Trader)",
   "language": "python",
   "name": "ai_trader"
  },
  "language_info": {
   "codemirror_mode": {
    "name": "ipython",
    "version": 3
   },
   "file_extension": ".py",
   "mimetype": "text/x-python",
   "name": "python",
   "nbconvert_exporter": "python",
   "pygments_lexer": "ipython3",
   "version": "3.9.21"
  }
 },
 "nbformat": 4,
 "nbformat_minor": 5
}
